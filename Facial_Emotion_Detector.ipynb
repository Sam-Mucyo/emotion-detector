{
  "nbformat": 4,
  "nbformat_minor": 0,
  "metadata": {
    "colab": {
      "provenance": [],
      "authorship_tag": "ABX9TyN6W9juuLAGIgmme/tqKYNd",
      "include_colab_link": true
    },
    "kernelspec": {
      "name": "python3",
      "display_name": "Python 3"
    },
    "language_info": {
      "name": "python"
    }
  },
  "cells": [
    {
      "cell_type": "markdown",
      "metadata": {
        "id": "view-in-github",
        "colab_type": "text"
      },
      "source": [
        "<a href=\"https://colab.research.google.com/github/Sam-Mucyo/emotion-detector/blob/main/Facial_Emotion_Detector.ipynb\" target=\"_parent\"><img src=\"https://colab.research.google.com/assets/colab-badge.svg\" alt=\"Open In Colab\"/></a>"
      ]
    },
    {
      "cell_type": "markdown",
      "source": [
        "## **Facial Emotion Detector Code Repo**\n"
      ],
      "metadata": {
        "id": "W3hpVAG6rVrr"
      }
    },
    {
      "cell_type": "markdown",
      "source": [
        "We start by making sure that deepface library is correctly installed"
      ],
      "metadata": {
        "id": "mI6rPVGMsHsf"
      }
    },
    {
      "cell_type": "code",
      "source": [
        "! pip install deepface"
      ],
      "metadata": {
        "id": "oGTHcr7aUYqv"
      },
      "execution_count": null,
      "outputs": []
    },
    {
      "cell_type": "markdown",
      "source": [
        "Importing the library"
      ],
      "metadata": {
        "id": "Ym3FKocit0AG"
      }
    },
    {
      "cell_type": "code",
      "source": [
        "from deepface import DeepFace"
      ],
      "metadata": {
        "id": "MB_ilII7UfEX"
      },
      "execution_count": null,
      "outputs": []
    },
    {
      "cell_type": "markdown",
      "source": [
        "We define a function to open a webcam and take a picture; the picture get saved in the directory so that we can later use it for emotion detection."
      ],
      "metadata": {
        "id": "GOQunn_Kt7jq"
      }
    },
    {
      "cell_type": "code",
      "source": [
        "from IPython.display import display, Javascript\n",
        "from google.colab.output import eval_js\n",
        "from base64 import b64decode\n",
        "\n",
        "def take_photo(filename='photo.jpg', quality=0.8):\n",
        "  js = Javascript('''\n",
        "    async function takePhoto(quality) {\n",
        "      const div = document.createElement('div');\n",
        "      const capture = document.createElement('button');\n",
        "      capture.textContent = 'Capture';\n",
        "      div.appendChild(capture);\n",
        "\n",
        "      const video = document.createElement('video');\n",
        "      video.style.display = 'block';\n",
        "      const stream = await navigator.mediaDevices.getUserMedia({video: true});\n",
        "\n",
        "      document.body.appendChild(div);\n",
        "      div.appendChild(video);\n",
        "      video.srcObject = stream;\n",
        "      await video.play();\n",
        "\n",
        "      // Resize the output to fit the video element.\n",
        "      google.colab.output.setIframeHeight(document.documentElement.scrollHeight, true);\n",
        "\n",
        "      // Wait for Capture to be clicked.\n",
        "      await new Promise((resolve) => capture.onclick = resolve);\n",
        "\n",
        "      const canvas = document.createElement('canvas');\n",
        "      canvas.width = video.videoWidth;\n",
        "      canvas.height = video.videoHeight;\n",
        "      canvas.getContext('2d').drawImage(video, 0, 0);\n",
        "      stream.getVideoTracks()[0].stop();\n",
        "      div.remove();\n",
        "      return canvas.toDataURL('image/jpeg', quality);\n",
        "    }\n",
        "    ''')\n",
        "  display(js)\n",
        "  data = eval_js('takePhoto({})'.format(quality))\n",
        "  binary = b64decode(data.split(',')[1])\n",
        "  with open(filename, 'wb') as f:\n",
        "    f.write(binary)\n",
        "  return filename"
      ],
      "metadata": {
        "id": "HGmfJ82OWHj4"
      },
      "execution_count": null,
      "outputs": []
    },
    {
      "cell_type": "markdown",
      "source": [
        "Now that we have that function defined. We can use it to take a photo. The program will ask access to camera. After allowing access, you can take a photo demonstrating kind of facial expression - happy (smiling), excited, angry, disgust, et.- and the program will predict what your facial expression conveys."
      ],
      "metadata": {
        "id": "TXNA71ldus_J"
      }
    },
    {
      "cell_type": "code",
      "source": [
        "from IPython.display import Image\n",
        "try:\n",
        "  filename = take_photo()\n",
        "  print('Saved to {}'.format(filename))\n",
        "\n",
        "  # Show the image which was just taken.\n",
        "  display(Image(filename))\n",
        "except Exception as err:\n",
        "  # Errors will be thrown if the user does not have a webcam or if they do not\n",
        "  # grant the page permission to access it.\n",
        "  print(str(err))"
      ],
      "metadata": {
        "id": "6Bf3McXXiPXU"
      },
      "execution_count": null,
      "outputs": []
    },
    {
      "cell_type": "markdown",
      "source": [
        "Let's now see the results: Click run for below codes to see the predicted dominant facial emotion"
      ],
      "metadata": {
        "id": "7IgqKhmK0DFD"
      }
    },
    {
      "cell_type": "code",
      "source": [
        "results = DeepFace.analyze(img_path = '/content/photo.jpg', actions=('emotion', 'age', 'gender', 'race'))\n",
        "print(f\"\\n\\nThe dominant facial emotion is: {results['dominant_emotion']}\")"
      ],
      "metadata": {
        "id": "oGV_57PriY0z"
      },
      "execution_count": null,
      "outputs": []
    },
    {
      "cell_type": "markdown",
      "source": [
        "Run the following code to see a full report with percentages"
      ],
      "metadata": {
        "id": "JaM6Val6_P7d"
      }
    },
    {
      "cell_type": "code",
      "source": [
        "emotions = results['emotion']\n",
        "print (\"Full stats: \\n\")\n",
        "for emotion in emotions:\n",
        "  print (f\"{emotion} = {round(emotions[emotion], 2)}%\")"
      ],
      "metadata": {
        "id": "PDmXuSrn1TzF"
      },
      "execution_count": null,
      "outputs": []
    },
    {
      "cell_type": "markdown",
      "source": [
        "**TESTING WITH MORE THAN 1 IMAGES FROM A FOLDER**\n",
        "\n",
        "When I was testing this, Google Colab couldn't allow me to upload a directory/folder. You might need to select all images, drag, and drop them in Colab (instead of uploading the entire folder). Or just create a new folder in Colab and then upload the images in that new folder.\n",
        "\n",
        "Usage: You'll be prompted to enter the name of a folder with images you want to test. If you didn't create a folder and just uploaded images, ignore the prompt and just hit enter."
      ],
      "metadata": {
        "id": "hPt_xyQ9WRS0"
      }
    },
    {
      "cell_type": "code",
      "source": [
        "from pathlib import Path\n",
        "import glob\n",
        "import os\n",
        "\n",
        "current_path = os.path.expanduser('/content/')\n",
        "print(\"If you have just uploaded images, without creating a folder, ignore the prompt and just hit enter.\\n\")\n",
        "new_folder = input(\"Name of the folder you with images: \")\n",
        "images = glob.glob(current_path + f'/{new_folder}' '/*.png')\n",
        "\n",
        "for image_path in images:\n",
        "  results = DeepFace.analyze(img_path = image_path, actions=('emotion', '', '', ''))\n",
        "  print (f\"\\n\\nThe dominant facial emotion is: {results['dominant_emotion']}\")\n",
        "  img_name = image_path.replace(\"/content/\", \"\")\n",
        "  display(Image(img_name))\n"
      ],
      "metadata": {
        "id": "w-WCLayZWRz3"
      },
      "execution_count": null,
      "outputs": []
    }
  ]
}